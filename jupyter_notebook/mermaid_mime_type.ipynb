{
 "cells": [
  {
   "cell_type": "markdown",
   "metadata": {},
   "source": [
    "# Native render of mermaid \"MIME type\" ?\n",
    "borrowed from https://github.com/jupyterlab/jupyterlab/blob/main/galata/test/jupyterlab/notebooks/mermaid_notebook.ipynb .  \n",
    "See ongoing discussion https://github.com/ipython/ipython/issues/14319\n",
    "\n",
    "> Yep, .mmd files and text/vnd.mermaid rendered by mermaid.js is only a widely-implemented (e.g. on GitLab, GitHub, HackMD, and now, nbconvert, jupyterlab, and notebook) way to communicate, not a full multi-stakeholder-managed specification like image/svg+xml with many (albeit semi-incompatible) renderers."
   ]
  },
  {
   "cell_type": "code",
   "execution_count": 2,
   "metadata": {},
   "outputs": [
    {
     "data": {
      "text/vnd.mermaid": [
       "\n",
       "            flowchart LR\n",
       "            chicken --> egg --> chicken\n",
       "        "
      ]
     },
     "metadata": {
      "text/vnd.mermaid": {
       "version": "11.6.0"
      }
     },
     "output_type": "display_data"
    }
   ],
   "source": [
    "from IPython.display import display\n",
    "\n",
    "display(\n",
    "    {\n",
    "        \"text/vnd.mermaid\": \"\"\"\n",
    "            flowchart LR\n",
    "            chicken --> egg --> chicken\n",
    "        \"\"\"\n",
    "    },\n",
    "    raw=True,\n",
    ")"
   ]
  },
  {
   "cell_type": "code",
   "execution_count": null,
   "metadata": {},
   "outputs": [],
   "source": []
  }
 ],
 "metadata": {
  "kernelspec": {
   "display_name": "Python 3 (ipykernel)",
   "language": "python",
   "name": "python3"
  },
  "language_info": {
   "codemirror_mode": {
    "name": "ipython",
    "version": 3
   },
   "file_extension": ".py",
   "mimetype": "text/x-python",
   "name": "python",
   "nbconvert_exporter": "python",
   "pygments_lexer": "ipython3",
   "version": "3.13.3"
  }
 },
 "nbformat": 4,
 "nbformat_minor": 4
}
